{
 "cells": [
  {
   "cell_type": "code",
   "execution_count": null,
   "metadata": {},
   "outputs": [],
   "source": [
    "%pip install beautifulsoup4"
   ]
  },
  {
   "cell_type": "code",
   "execution_count": null,
   "metadata": {},
   "outputs": [],
   "source": [
    "import bs4"
   ]
  },
  {
   "cell_type": "code",
   "execution_count": null,
   "metadata": {},
   "outputs": [],
   "source": [
    "html_doc = \"<html><head><title>Test</title></head><body><p>This is a test.</p></body></html>\"\n",
    "test = bs4.BeautifulSoup(html_doc, \"html.parser\")\n",
    "print(test.prettify())\n",
    "\n",
    "print(\"=\"*80)\n",
    "print(test.title)"
   ]
  },
  {
   "cell_type": "code",
   "execution_count": null,
   "metadata": {},
   "outputs": [],
   "source": [
    "\n",
    "with open('gar/helpcenter.html', 'r', encoding='utf-8') as f:\n",
    "    html_doc = f.read()\n",
    "soup = bs4.BeautifulSoup(html_doc, 'html.parser')\n",
    "#print(soup.prettify())"
   ]
  },
  {
   "cell_type": "code",
   "execution_count": null,
   "metadata": {},
   "outputs": [],
   "source": [
    "import re\n",
    "\n",
    "# updated regex pattern to capture \"/help-center/\" and subsequent characters until reaching a double quote\n",
    "pattern = r'(/help-center/[^\"]*)'\n",
    "\n",
    "matches = re.findall(pattern, html_doc)\n",
    "print(matches)\n",
    "print(len(matches))\n"
   ]
  },
  {
   "cell_type": "code",
   "execution_count": null,
   "metadata": {},
   "outputs": [],
   "source": [
    "with open('q1.html', 'r', encoding='utf-8') as f:\n",
    "    html_doc = f.read()\n",
    "    q1_test = bs4.BeautifulSoup(html_doc, 'html.parser')\n",
    "#print(q1_test.prettify())\n",
    "main_tag = q1_test.find(\"main\")\n",
    "print(main_tag.prettify())"
   ]
  },
  {
   "cell_type": "code",
   "execution_count": null,
   "metadata": {},
   "outputs": [],
   "source": [
    "main_el = q1_test.find(\"main\")\n",
    "\n",
    "title_in_main = main_el.find('h1')\n",
    "text_in_main = main_el.find_all('p')\n",
    "\n",
    "if title_in_main:\n",
    "    print(title_in_main.get_text(strip=True))\n",
    "else:\n",
    "    print(\"Title not found in main\")\n",
    "\n",
    "print(\"\")\n",
    "\n",
    "context = \"\"\n",
    "for p in text_in_main:\n",
    "    print(p)\n",
    "    context += p.get_text(strip=True) + \"\\n\"\n",
    "print(context)\n"
   ]
  },
  {
   "cell_type": "code",
   "execution_count": null,
   "metadata": {},
   "outputs": [],
   "source": [
    "import os\n",
    "import requests\n",
    "import time\n",
    "for url in matches:\n",
    "    #print(f\"https://www.lysa.se/{url}\")\n",
    "    payload = {}\n",
    "    headers = {}\n",
    "\n",
    "    response = requests.request(\"GET\", f\"https://www.lysa.se/{url}\", headers=headers, data=payload)\n",
    "    time.sleep(0.5)\n",
    "\n",
    "    filename = url.split('/')[-1] + \".html\"\n",
    "    with open(f\"support_pages/{filename}\", \"w\", encoding=\"utf-8\") as f:\n",
    "        f.write(response.text)\n",
    "\n",
    "print(f\"Number of files in support_pages folder: {len(os.listdir('support_pages'))}\")\n"
   ]
  },
  {
   "cell_type": "code",
   "execution_count": null,
   "metadata": {},
   "outputs": [],
   "source": []
  }
 ],
 "metadata": {
  "kernelspec": {
   "display_name": "base",
   "language": "python",
   "name": "python3"
  },
  "language_info": {
   "name": "python",
   "version": "3.12.2"
  }
 },
 "nbformat": 4,
 "nbformat_minor": 2
}
